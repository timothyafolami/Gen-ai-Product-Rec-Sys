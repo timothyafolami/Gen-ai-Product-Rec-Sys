{
 "cells": [
  {
   "cell_type": "code",
   "execution_count": 31,
   "metadata": {},
   "outputs": [],
   "source": [
    "import pandas as pd\n",
    "import numpy as np\n",
    "import matplotlib.pyplot as plt\n",
    "import seaborn as sns\n",
    "import chromadb\n",
    "import timeit\n",
    "from IPython.display import display, HTML\n",
    "from tqdm import tqdm\n",
    "import os"
   ]
  },
  {
   "cell_type": "code",
   "execution_count": null,
   "metadata": {},
   "outputs": [],
   "source": []
  },
  {
   "cell_type": "markdown",
   "metadata": {},
   "source": [
    "## Data reading"
   ]
  },
  {
   "cell_type": "code",
   "execution_count": 6,
   "metadata": {},
   "outputs": [
    {
     "data": {
      "text/html": [
       "<div>\n",
       "<style scoped>\n",
       "    .dataframe tbody tr th:only-of-type {\n",
       "        vertical-align: middle;\n",
       "    }\n",
       "\n",
       "    .dataframe tbody tr th {\n",
       "        vertical-align: top;\n",
       "    }\n",
       "\n",
       "    .dataframe thead th {\n",
       "        text-align: right;\n",
       "    }\n",
       "</style>\n",
       "<table border=\"1\" class=\"dataframe\">\n",
       "  <thead>\n",
       "    <tr style=\"text-align: right;\">\n",
       "      <th></th>\n",
       "      <th>asin</th>\n",
       "      <th>title</th>\n",
       "      <th>imgUrl</th>\n",
       "      <th>productURL</th>\n",
       "      <th>stars</th>\n",
       "      <th>reviews</th>\n",
       "      <th>price</th>\n",
       "      <th>listPrice</th>\n",
       "      <th>categoryName</th>\n",
       "      <th>isBestSeller</th>\n",
       "      <th>boughtInLastMonth</th>\n",
       "    </tr>\n",
       "  </thead>\n",
       "  <tbody>\n",
       "    <tr>\n",
       "      <th>0</th>\n",
       "      <td>B07CV4L6HX</td>\n",
       "      <td>Green Leaf WW3D Wonder Extension Cord Winder, ...</td>\n",
       "      <td>https://m.media-amazon.com/images/I/81cRe0AVC4...</td>\n",
       "      <td>https://www.amazon.ca/dp/B07CV4L6HX</td>\n",
       "      <td>4.4</td>\n",
       "      <td>2876</td>\n",
       "      <td>47.69</td>\n",
       "      <td>0.00</td>\n",
       "      <td>Industrial  Scientific</td>\n",
       "      <td>False</td>\n",
       "      <td>0</td>\n",
       "    </tr>\n",
       "    <tr>\n",
       "      <th>1</th>\n",
       "      <td>B09N1HGY74</td>\n",
       "      <td>8pcs Toilet Seat Bumpers Universal Toilet Repl...</td>\n",
       "      <td>https://m.media-amazon.com/images/I/512CpB-EP5...</td>\n",
       "      <td>https://www.amazon.ca/dp/B09N1HGY74</td>\n",
       "      <td>3.8</td>\n",
       "      <td>55</td>\n",
       "      <td>10.99</td>\n",
       "      <td>0.00</td>\n",
       "      <td>Industrial  Scientific</td>\n",
       "      <td>False</td>\n",
       "      <td>100</td>\n",
       "    </tr>\n",
       "    <tr>\n",
       "      <th>2</th>\n",
       "      <td>B087P7538J</td>\n",
       "      <td>YaeCCC 19 Pcs Hole Saw Kit 3/4''(19mm)- 6''(15...</td>\n",
       "      <td>https://m.media-amazon.com/images/I/71P+qLFDFc...</td>\n",
       "      <td>https://www.amazon.ca/dp/B087P7538J</td>\n",
       "      <td>4.0</td>\n",
       "      <td>126</td>\n",
       "      <td>25.99</td>\n",
       "      <td>27.99</td>\n",
       "      <td>Industrial  Scientific</td>\n",
       "      <td>False</td>\n",
       "      <td>50</td>\n",
       "    </tr>\n",
       "    <tr>\n",
       "      <th>3</th>\n",
       "      <td>B0822FF7YQ</td>\n",
       "      <td>LLPT Butyl Putty Tape White 1 Inch x 33Ft Tigh...</td>\n",
       "      <td>https://m.media-amazon.com/images/I/61wfWLZRn-...</td>\n",
       "      <td>https://www.amazon.ca/dp/B0822FF7YQ</td>\n",
       "      <td>4.5</td>\n",
       "      <td>1936</td>\n",
       "      <td>21.99</td>\n",
       "      <td>30.99</td>\n",
       "      <td>Industrial  Scientific</td>\n",
       "      <td>False</td>\n",
       "      <td>100</td>\n",
       "    </tr>\n",
       "    <tr>\n",
       "      <th>4</th>\n",
       "      <td>B08NTR8NN4</td>\n",
       "      <td>Lightbeam 16\" Long Stem Deep Fry Thermometer w...</td>\n",
       "      <td>https://m.media-amazon.com/images/I/61qJG-y1He...</td>\n",
       "      <td>https://www.amazon.ca/dp/B08NTR8NN4</td>\n",
       "      <td>4.2</td>\n",
       "      <td>46</td>\n",
       "      <td>18.99</td>\n",
       "      <td>0.00</td>\n",
       "      <td>Industrial  Scientific</td>\n",
       "      <td>False</td>\n",
       "      <td>100</td>\n",
       "    </tr>\n",
       "    <tr>\n",
       "      <th>...</th>\n",
       "      <td>...</td>\n",
       "      <td>...</td>\n",
       "      <td>...</td>\n",
       "      <td>...</td>\n",
       "      <td>...</td>\n",
       "      <td>...</td>\n",
       "      <td>...</td>\n",
       "      <td>...</td>\n",
       "      <td>...</td>\n",
       "      <td>...</td>\n",
       "      <td>...</td>\n",
       "    </tr>\n",
       "    <tr>\n",
       "      <th>2165921</th>\n",
       "      <td>B0B9Y4PJZ2</td>\n",
       "      <td>Climbing Rope Net for Kids, Net Climbing Cargo...</td>\n",
       "      <td>https://m.media-amazon.com/images/I/81c39KcQWI...</td>\n",
       "      <td>https://www.amazon.ca/dp/B0B9Y4PJZ2</td>\n",
       "      <td>0.0</td>\n",
       "      <td>0</td>\n",
       "      <td>52.99</td>\n",
       "      <td>0.00</td>\n",
       "      <td>Play Sets  Playground Equipment</td>\n",
       "      <td>False</td>\n",
       "      <td>0</td>\n",
       "    </tr>\n",
       "    <tr>\n",
       "      <th>2165922</th>\n",
       "      <td>B0B9XBN868</td>\n",
       "      <td>YIJU Gymnastic Rings Workout Set with Adjustab...</td>\n",
       "      <td>https://m.media-amazon.com/images/I/61p9ROOs62...</td>\n",
       "      <td>https://www.amazon.ca/dp/B0B9XBN868</td>\n",
       "      <td>0.0</td>\n",
       "      <td>0</td>\n",
       "      <td>15.99</td>\n",
       "      <td>0.00</td>\n",
       "      <td>Play Sets  Playground Equipment</td>\n",
       "      <td>False</td>\n",
       "      <td>0</td>\n",
       "    </tr>\n",
       "    <tr>\n",
       "      <th>2165923</th>\n",
       "      <td>B0B9T78NVK</td>\n",
       "      <td>Fancyes 2X Heavy Duty Swing Hangers Hardware S...</td>\n",
       "      <td>https://m.media-amazon.com/images/I/51VdGcyjqO...</td>\n",
       "      <td>https://www.amazon.ca/dp/B0B9T78NVK</td>\n",
       "      <td>0.0</td>\n",
       "      <td>0</td>\n",
       "      <td>15.29</td>\n",
       "      <td>0.00</td>\n",
       "      <td>Play Sets  Playground Equipment</td>\n",
       "      <td>False</td>\n",
       "      <td>0</td>\n",
       "    </tr>\n",
       "    <tr>\n",
       "      <th>2165924</th>\n",
       "      <td>B0B9T41CCT</td>\n",
       "      <td>SM SunniMix 2Pcs Stainless Steel Swing Hangers...</td>\n",
       "      <td>https://m.media-amazon.com/images/I/51o23h9tR9...</td>\n",
       "      <td>https://www.amazon.ca/dp/B0B9T41CCT</td>\n",
       "      <td>0.0</td>\n",
       "      <td>0</td>\n",
       "      <td>21.09</td>\n",
       "      <td>0.00</td>\n",
       "      <td>Play Sets  Playground Equipment</td>\n",
       "      <td>False</td>\n",
       "      <td>0</td>\n",
       "    </tr>\n",
       "    <tr>\n",
       "      <th>2165925</th>\n",
       "      <td>B0B9T39PND</td>\n",
       "      <td>YIJU 2Pcs Swing Hangers Sandbag Hook Hardware ...</td>\n",
       "      <td>https://m.media-amazon.com/images/I/51dJ7HtG7L...</td>\n",
       "      <td>https://www.amazon.ca/dp/B0B9T39PND</td>\n",
       "      <td>0.0</td>\n",
       "      <td>0</td>\n",
       "      <td>21.99</td>\n",
       "      <td>0.00</td>\n",
       "      <td>Play Sets  Playground Equipment</td>\n",
       "      <td>False</td>\n",
       "      <td>0</td>\n",
       "    </tr>\n",
       "  </tbody>\n",
       "</table>\n",
       "<p>2165926 rows × 11 columns</p>\n",
       "</div>"
      ],
      "text/plain": [
       "               asin                                              title  \\\n",
       "0        B07CV4L6HX  Green Leaf WW3D Wonder Extension Cord Winder, ...   \n",
       "1        B09N1HGY74  8pcs Toilet Seat Bumpers Universal Toilet Repl...   \n",
       "2        B087P7538J  YaeCCC 19 Pcs Hole Saw Kit 3/4''(19mm)- 6''(15...   \n",
       "3        B0822FF7YQ  LLPT Butyl Putty Tape White 1 Inch x 33Ft Tigh...   \n",
       "4        B08NTR8NN4  Lightbeam 16\" Long Stem Deep Fry Thermometer w...   \n",
       "...             ...                                                ...   \n",
       "2165921  B0B9Y4PJZ2  Climbing Rope Net for Kids, Net Climbing Cargo...   \n",
       "2165922  B0B9XBN868  YIJU Gymnastic Rings Workout Set with Adjustab...   \n",
       "2165923  B0B9T78NVK  Fancyes 2X Heavy Duty Swing Hangers Hardware S...   \n",
       "2165924  B0B9T41CCT  SM SunniMix 2Pcs Stainless Steel Swing Hangers...   \n",
       "2165925  B0B9T39PND  YIJU 2Pcs Swing Hangers Sandbag Hook Hardware ...   \n",
       "\n",
       "                                                    imgUrl  \\\n",
       "0        https://m.media-amazon.com/images/I/81cRe0AVC4...   \n",
       "1        https://m.media-amazon.com/images/I/512CpB-EP5...   \n",
       "2        https://m.media-amazon.com/images/I/71P+qLFDFc...   \n",
       "3        https://m.media-amazon.com/images/I/61wfWLZRn-...   \n",
       "4        https://m.media-amazon.com/images/I/61qJG-y1He...   \n",
       "...                                                    ...   \n",
       "2165921  https://m.media-amazon.com/images/I/81c39KcQWI...   \n",
       "2165922  https://m.media-amazon.com/images/I/61p9ROOs62...   \n",
       "2165923  https://m.media-amazon.com/images/I/51VdGcyjqO...   \n",
       "2165924  https://m.media-amazon.com/images/I/51o23h9tR9...   \n",
       "2165925  https://m.media-amazon.com/images/I/51dJ7HtG7L...   \n",
       "\n",
       "                                  productURL  stars  reviews  price  \\\n",
       "0        https://www.amazon.ca/dp/B07CV4L6HX    4.4     2876  47.69   \n",
       "1        https://www.amazon.ca/dp/B09N1HGY74    3.8       55  10.99   \n",
       "2        https://www.amazon.ca/dp/B087P7538J    4.0      126  25.99   \n",
       "3        https://www.amazon.ca/dp/B0822FF7YQ    4.5     1936  21.99   \n",
       "4        https://www.amazon.ca/dp/B08NTR8NN4    4.2       46  18.99   \n",
       "...                                      ...    ...      ...    ...   \n",
       "2165921  https://www.amazon.ca/dp/B0B9Y4PJZ2    0.0        0  52.99   \n",
       "2165922  https://www.amazon.ca/dp/B0B9XBN868    0.0        0  15.99   \n",
       "2165923  https://www.amazon.ca/dp/B0B9T78NVK    0.0        0  15.29   \n",
       "2165924  https://www.amazon.ca/dp/B0B9T41CCT    0.0        0  21.09   \n",
       "2165925  https://www.amazon.ca/dp/B0B9T39PND    0.0        0  21.99   \n",
       "\n",
       "         listPrice                     categoryName  isBestSeller  \\\n",
       "0             0.00           Industrial  Scientific         False   \n",
       "1             0.00           Industrial  Scientific         False   \n",
       "2            27.99           Industrial  Scientific         False   \n",
       "3            30.99           Industrial  Scientific         False   \n",
       "4             0.00           Industrial  Scientific         False   \n",
       "...            ...                              ...           ...   \n",
       "2165921       0.00  Play Sets  Playground Equipment         False   \n",
       "2165922       0.00  Play Sets  Playground Equipment         False   \n",
       "2165923       0.00  Play Sets  Playground Equipment         False   \n",
       "2165924       0.00  Play Sets  Playground Equipment         False   \n",
       "2165925       0.00  Play Sets  Playground Equipment         False   \n",
       "\n",
       "         boughtInLastMonth  \n",
       "0                        0  \n",
       "1                      100  \n",
       "2                       50  \n",
       "3                      100  \n",
       "4                      100  \n",
       "...                    ...  \n",
       "2165921                  0  \n",
       "2165922                  0  \n",
       "2165923                  0  \n",
       "2165924                  0  \n",
       "2165925                  0  \n",
       "\n",
       "[2165926 rows x 11 columns]"
      ]
     },
     "execution_count": 6,
     "metadata": {},
     "output_type": "execute_result"
    }
   ],
   "source": [
    "# Amazon products -1\n",
    "\n",
    "timeit.timeit()\n",
    "# Load the data\n",
    "amazon_1 = pd.read_csv('Data/amz_ca_total_products_data_processed.csv')\n",
    "amazon_1"
   ]
  },
  {
   "cell_type": "code",
   "execution_count": 15,
   "metadata": {},
   "outputs": [
    {
     "data": {
      "text/plain": [
       "(2165926, 11)"
      ]
     },
     "execution_count": 15,
     "metadata": {},
     "output_type": "execute_result"
    }
   ],
   "source": [
    "amazon_1.shape"
   ]
  },
  {
   "cell_type": "code",
   "execution_count": 16,
   "metadata": {},
   "outputs": [
    {
     "data": {
      "text/html": [
       "<div>\n",
       "<style scoped>\n",
       "    .dataframe tbody tr th:only-of-type {\n",
       "        vertical-align: middle;\n",
       "    }\n",
       "\n",
       "    .dataframe tbody tr th {\n",
       "        vertical-align: top;\n",
       "    }\n",
       "\n",
       "    .dataframe thead th {\n",
       "        text-align: right;\n",
       "    }\n",
       "</style>\n",
       "<table border=\"1\" class=\"dataframe\">\n",
       "  <thead>\n",
       "    <tr style=\"text-align: right;\">\n",
       "      <th></th>\n",
       "      <th>asin</th>\n",
       "      <th>title</th>\n",
       "      <th>imgUrl</th>\n",
       "      <th>productURL</th>\n",
       "      <th>stars</th>\n",
       "      <th>reviews</th>\n",
       "      <th>price</th>\n",
       "      <th>listPrice</th>\n",
       "      <th>categoryName</th>\n",
       "      <th>isBestSeller</th>\n",
       "      <th>boughtInLastMonth</th>\n",
       "    </tr>\n",
       "  </thead>\n",
       "  <tbody>\n",
       "    <tr>\n",
       "      <th>0</th>\n",
       "      <td>B07CV4L6HX</td>\n",
       "      <td>Green Leaf WW3D Wonder Extension Cord Winder, ...</td>\n",
       "      <td>https://m.media-amazon.com/images/I/81cRe0AVC4...</td>\n",
       "      <td>https://www.amazon.ca/dp/B07CV4L6HX</td>\n",
       "      <td>4.4</td>\n",
       "      <td>2876</td>\n",
       "      <td>47.69</td>\n",
       "      <td>0.00</td>\n",
       "      <td>Industrial  Scientific</td>\n",
       "      <td>False</td>\n",
       "      <td>0</td>\n",
       "    </tr>\n",
       "    <tr>\n",
       "      <th>1</th>\n",
       "      <td>B09N1HGY74</td>\n",
       "      <td>8pcs Toilet Seat Bumpers Universal Toilet Repl...</td>\n",
       "      <td>https://m.media-amazon.com/images/I/512CpB-EP5...</td>\n",
       "      <td>https://www.amazon.ca/dp/B09N1HGY74</td>\n",
       "      <td>3.8</td>\n",
       "      <td>55</td>\n",
       "      <td>10.99</td>\n",
       "      <td>0.00</td>\n",
       "      <td>Industrial  Scientific</td>\n",
       "      <td>False</td>\n",
       "      <td>100</td>\n",
       "    </tr>\n",
       "    <tr>\n",
       "      <th>2</th>\n",
       "      <td>B087P7538J</td>\n",
       "      <td>YaeCCC 19 Pcs Hole Saw Kit 3/4''(19mm)- 6''(15...</td>\n",
       "      <td>https://m.media-amazon.com/images/I/71P+qLFDFc...</td>\n",
       "      <td>https://www.amazon.ca/dp/B087P7538J</td>\n",
       "      <td>4.0</td>\n",
       "      <td>126</td>\n",
       "      <td>25.99</td>\n",
       "      <td>27.99</td>\n",
       "      <td>Industrial  Scientific</td>\n",
       "      <td>False</td>\n",
       "      <td>50</td>\n",
       "    </tr>\n",
       "    <tr>\n",
       "      <th>3</th>\n",
       "      <td>B0822FF7YQ</td>\n",
       "      <td>LLPT Butyl Putty Tape White 1 Inch x 33Ft Tigh...</td>\n",
       "      <td>https://m.media-amazon.com/images/I/61wfWLZRn-...</td>\n",
       "      <td>https://www.amazon.ca/dp/B0822FF7YQ</td>\n",
       "      <td>4.5</td>\n",
       "      <td>1936</td>\n",
       "      <td>21.99</td>\n",
       "      <td>30.99</td>\n",
       "      <td>Industrial  Scientific</td>\n",
       "      <td>False</td>\n",
       "      <td>100</td>\n",
       "    </tr>\n",
       "    <tr>\n",
       "      <th>4</th>\n",
       "      <td>B08NTR8NN4</td>\n",
       "      <td>Lightbeam 16\" Long Stem Deep Fry Thermometer w...</td>\n",
       "      <td>https://m.media-amazon.com/images/I/61qJG-y1He...</td>\n",
       "      <td>https://www.amazon.ca/dp/B08NTR8NN4</td>\n",
       "      <td>4.2</td>\n",
       "      <td>46</td>\n",
       "      <td>18.99</td>\n",
       "      <td>0.00</td>\n",
       "      <td>Industrial  Scientific</td>\n",
       "      <td>False</td>\n",
       "      <td>100</td>\n",
       "    </tr>\n",
       "  </tbody>\n",
       "</table>\n",
       "</div>"
      ],
      "text/plain": [
       "         asin                                              title  \\\n",
       "0  B07CV4L6HX  Green Leaf WW3D Wonder Extension Cord Winder, ...   \n",
       "1  B09N1HGY74  8pcs Toilet Seat Bumpers Universal Toilet Repl...   \n",
       "2  B087P7538J  YaeCCC 19 Pcs Hole Saw Kit 3/4''(19mm)- 6''(15...   \n",
       "3  B0822FF7YQ  LLPT Butyl Putty Tape White 1 Inch x 33Ft Tigh...   \n",
       "4  B08NTR8NN4  Lightbeam 16\" Long Stem Deep Fry Thermometer w...   \n",
       "\n",
       "                                              imgUrl  \\\n",
       "0  https://m.media-amazon.com/images/I/81cRe0AVC4...   \n",
       "1  https://m.media-amazon.com/images/I/512CpB-EP5...   \n",
       "2  https://m.media-amazon.com/images/I/71P+qLFDFc...   \n",
       "3  https://m.media-amazon.com/images/I/61wfWLZRn-...   \n",
       "4  https://m.media-amazon.com/images/I/61qJG-y1He...   \n",
       "\n",
       "                            productURL  stars  reviews  price  listPrice  \\\n",
       "0  https://www.amazon.ca/dp/B07CV4L6HX    4.4     2876  47.69       0.00   \n",
       "1  https://www.amazon.ca/dp/B09N1HGY74    3.8       55  10.99       0.00   \n",
       "2  https://www.amazon.ca/dp/B087P7538J    4.0      126  25.99      27.99   \n",
       "3  https://www.amazon.ca/dp/B0822FF7YQ    4.5     1936  21.99      30.99   \n",
       "4  https://www.amazon.ca/dp/B08NTR8NN4    4.2       46  18.99       0.00   \n",
       "\n",
       "             categoryName  isBestSeller  boughtInLastMonth  \n",
       "0  Industrial  Scientific         False                  0  \n",
       "1  Industrial  Scientific         False                100  \n",
       "2  Industrial  Scientific         False                 50  \n",
       "3  Industrial  Scientific         False                100  \n",
       "4  Industrial  Scientific         False                100  "
      ]
     },
     "execution_count": 16,
     "metadata": {},
     "output_type": "execute_result"
    }
   ],
   "source": [
    "amazon_1.head()"
   ]
  },
  {
   "cell_type": "code",
   "execution_count": 17,
   "metadata": {},
   "outputs": [
    {
     "data": {
      "text/plain": [
       "asin                  object\n",
       "title                 object\n",
       "imgUrl                object\n",
       "productURL            object\n",
       "stars                float64\n",
       "reviews                int64\n",
       "price                float64\n",
       "listPrice            float64\n",
       "categoryName          object\n",
       "isBestSeller            bool\n",
       "boughtInLastMonth      int64\n",
       "dtype: object"
      ]
     },
     "execution_count": 17,
     "metadata": {},
     "output_type": "execute_result"
    }
   ],
   "source": [
    "# looking at the data types\n",
    "amazon_1.dtypes"
   ]
  },
  {
   "cell_type": "code",
   "execution_count": 19,
   "metadata": {},
   "outputs": [],
   "source": [
    "# removing cases where the price is 0\n",
    "amazon_1_filt = amazon_1[amazon_1['price'] > 0]"
   ]
  },
  {
   "cell_type": "code",
   "execution_count": 20,
   "metadata": {},
   "outputs": [
    {
     "data": {
      "text/plain": [
       "(1988016, 11)"
      ]
     },
     "execution_count": 20,
     "metadata": {},
     "output_type": "execute_result"
    }
   ],
   "source": [
    "amazon_1_filt.shape"
   ]
  },
  {
   "cell_type": "code",
   "execution_count": 21,
   "metadata": {},
   "outputs": [
    {
     "data": {
      "text/plain": [
       "Index(['asin', 'title', 'imgUrl', 'productURL', 'stars', 'reviews', 'price',\n",
       "       'listPrice', 'categoryName', 'isBestSeller', 'boughtInLastMonth'],\n",
       "      dtype='object')"
      ]
     },
     "execution_count": 21,
     "metadata": {},
     "output_type": "execute_result"
    }
   ],
   "source": [
    "amazon_1_filt.columns"
   ]
  },
  {
   "cell_type": "code",
   "execution_count": 22,
   "metadata": {},
   "outputs": [
    {
     "data": {
      "text/plain": [
       "266"
      ]
     },
     "execution_count": 22,
     "metadata": {},
     "output_type": "execute_result"
    }
   ],
   "source": [
    "# checking the number of unique values of the 'category' column\n",
    "amazon_1_filt['categoryName'].nunique()"
   ]
  },
  {
   "cell_type": "code",
   "execution_count": 23,
   "metadata": {},
   "outputs": [
    {
     "data": {
      "text/plain": [
       "categoryName\n",
       "Baby                              24077\n",
       "Luggage  Travel Gear              22449\n",
       "Handmade Home Décor               19143\n",
       "Handmade Kitchen  Dining          19074\n",
       "Handmade Jewellery                18545\n",
       "Beauty                            18320\n",
       "Men's Jewelry                     17969\n",
       "Women's Watches                   17386\n",
       "Boys                              17233\n",
       "Electronics                       16393\n",
       "Men's Watches                     16385\n",
       "Uniforms, Work  Safety            16150\n",
       "Men's Shoes                       16049\n",
       "Women's Shoes                     15964\n",
       "Beauty Tools  Accessories         15868\n",
       "Men                               15768\n",
       "Shaving  Hair Removal Products    15702\n",
       "Grocery                           15601\n",
       "Women                             15576\n",
       "Perfume  Cologne                  15552\n",
       "Name: count, dtype: int64"
      ]
     },
     "execution_count": 23,
     "metadata": {},
     "output_type": "execute_result"
    }
   ],
   "source": [
    "# show the top 20 categories based on the number of products sorted in descending order\n",
    "amazon_1_filt['categoryName'].value_counts().sort_values(ascending=False).head(20)"
   ]
  },
  {
   "cell_type": "code",
   "execution_count": 24,
   "metadata": {},
   "outputs": [
    {
     "data": {
      "text/plain": [
       "categoryName\n",
       "Health  Personal Care         4.421826\n",
       "Office Products               4.409754\n",
       "Home  Kitchen                 4.400918\n",
       "Kitchen  Dining               4.387650\n",
       "Tools  Home Improvement       4.384985\n",
       "Industrial  Scientific        4.375573\n",
       "Home Storage  Organization    4.337271\n",
       "Computer Accessories          4.318017\n",
       "Sewing, Craft  Hobby          4.307424\n",
       "Toys  Games                   4.289883\n",
       "Power Tools  Hand Tools       4.287130\n",
       "Electronics                   4.270207\n",
       "Automotive                    4.246739\n",
       "Beauty                        4.242243\n",
       "Sports  Outdoors              4.240403\n",
       "Pet Supplies                  4.238259\n",
       "International Food Market     4.234868\n",
       "Home  Portable Audio          4.227072\n",
       "Hardware                      4.216970\n",
       "Home Textiles                 4.213560\n",
       "Name: stars, dtype: float64"
      ]
     },
     "execution_count": 24,
     "metadata": {},
     "output_type": "execute_result"
    }
   ],
   "source": [
    "# checking for the product category that has the highest rating\n",
    "amazon_1_filt.groupby('categoryName')['stars'].mean().sort_values(ascending=False).head(20)"
   ]
  },
  {
   "cell_type": "code",
   "execution_count": 26,
   "metadata": {},
   "outputs": [
    {
     "name": "stdout",
     "output_type": "stream",
     "text": [
      "Green Leaf WW3D Wonder Extension Cord Winder, Gray, 150 Foot\n",
      "8pcs Toilet Seat Bumpers Universal Toilet Replacement Bumper for Bidet Attachment Toilet Seat Bumper Pads with Strong Adhesive for Home, Hotel, Hospital\n",
      "YaeCCC 19 Pcs Hole Saw Kit 3/4''(19mm)- 6''(152mm) Full Set in Case with Mandrels, Hex Key and Install Plate for Soft Wood, PVC Board and Plastic Plate Drilling\n",
      "LLPT Butyl Putty Tape White 1 Inch x 33Ft Tight Seal for Leak Proof RV Repair Window Glass Boat Sealing Roof Pipe Patching(WST233)\n",
      "Lightbeam 16\" Long Stem Deep Fry Thermometer with Clip, Instant Read 2\" Dial Oil Thermometer Meat Thermometer for Deep Frying, Broiling, BBQ & Turkey ...\n",
      "etguuds White USB C to USB C Cable [10ft, 2-Pack], 60W Fast Charging Type C to Type C Charger Cable for Samsung Galaxy S23 S22 S21 S20 Ultra 5G, Z Flip/Fold 4 3, Note 20, Pixel 7 6 Pro & USB-C Laptop\n",
      "REAQER CPAP Hose Holder Hanger for Preventing tube leakage and tangle Adjustable and Sturdy\n",
      "SAVITA 2pcs Magnetic Bottle Openers, Can Tapper Magnetic Stainless Steel Can Opener Manual Bottle Punch Opener for Beer Bottles Cans Beverages (Black)\n",
      "Simba Lighting LED A19 Light Bulbs (4 Pack) 9W 60W Equivalent Standard Size Energy Efficient for Home Applications, E26 Medium Base, 2700K Warm White\n",
      "Knife Sharpening Stone,400/1000.2000/5000 Double Side Grit Waterstone,Best Whetstone Sharpener,Professional,Best Kitchen Blade Sharpener Stone, Nonslip Bamboo Base & Angle Guided\n"
     ]
    }
   ],
   "source": [
    "# printing each of the first 10 rows of the title column\n",
    "for i in range(10):\n",
    "    print(amazon_1_filt['title'][i])"
   ]
  },
  {
   "cell_type": "code",
   "execution_count": 27,
   "metadata": {},
   "outputs": [
    {
     "name": "stdout",
     "output_type": "stream",
     "text": [
      "https://m.media-amazon.com/images/I/81cRe0AVC4L._AC_UL320_.jpg\n",
      "https://m.media-amazon.com/images/I/512CpB-EP5L._AC_UL320_.jpg\n",
      "https://m.media-amazon.com/images/I/71P+qLFDFcL._AC_UL320_.jpg\n",
      "https://m.media-amazon.com/images/I/61wfWLZRn-L._AC_UL320_.jpg\n",
      "https://m.media-amazon.com/images/I/61qJG-y1HeL._AC_UL320_.jpg\n",
      "https://m.media-amazon.com/images/I/61NhWv2qfZL._AC_UL320_.jpg\n",
      "https://m.media-amazon.com/images/I/71NttUXVLTL._AC_UL320_.jpg\n",
      "https://m.media-amazon.com/images/I/51ZK+B6vjSL._AC_UL320_.jpg\n",
      "https://m.media-amazon.com/images/I/61Ec3IzoRHS._AC_UL320_.jpg\n",
      "https://m.media-amazon.com/images/I/61uWVjhezJL._AC_UL320_.jpg\n"
     ]
    }
   ],
   "source": [
    "# printing each of the first 10 rows of the image column\n",
    "for i in range(10):\n",
    "    print(amazon_1_filt['imgUrl'][i])"
   ]
  },
  {
   "cell_type": "code",
   "execution_count": 29,
   "metadata": {},
   "outputs": [
    {
     "data": {
      "text/html": [
       "<img src=\"https://m.media-amazon.com/images/I/81cRe0AVC4L._AC_UL320_.jpg\" alt=\"Image\">"
      ],
      "text/plain": [
       "<IPython.core.display.HTML object>"
      ]
     },
     "metadata": {},
     "output_type": "display_data"
    },
    {
     "data": {
      "text/html": [
       "<img src=\"https://m.media-amazon.com/images/I/512CpB-EP5L._AC_UL320_.jpg\" alt=\"Image\">"
      ],
      "text/plain": [
       "<IPython.core.display.HTML object>"
      ]
     },
     "metadata": {},
     "output_type": "display_data"
    },
    {
     "data": {
      "text/html": [
       "<img src=\"https://m.media-amazon.com/images/I/71P+qLFDFcL._AC_UL320_.jpg\" alt=\"Image\">"
      ],
      "text/plain": [
       "<IPython.core.display.HTML object>"
      ]
     },
     "metadata": {},
     "output_type": "display_data"
    },
    {
     "data": {
      "text/html": [
       "<img src=\"https://m.media-amazon.com/images/I/61wfWLZRn-L._AC_UL320_.jpg\" alt=\"Image\">"
      ],
      "text/plain": [
       "<IPython.core.display.HTML object>"
      ]
     },
     "metadata": {},
     "output_type": "display_data"
    },
    {
     "data": {
      "text/html": [
       "<img src=\"https://m.media-amazon.com/images/I/61qJG-y1HeL._AC_UL320_.jpg\" alt=\"Image\">"
      ],
      "text/plain": [
       "<IPython.core.display.HTML object>"
      ]
     },
     "metadata": {},
     "output_type": "display_data"
    },
    {
     "data": {
      "text/html": [
       "<img src=\"https://m.media-amazon.com/images/I/61NhWv2qfZL._AC_UL320_.jpg\" alt=\"Image\">"
      ],
      "text/plain": [
       "<IPython.core.display.HTML object>"
      ]
     },
     "metadata": {},
     "output_type": "display_data"
    },
    {
     "data": {
      "text/html": [
       "<img src=\"https://m.media-amazon.com/images/I/71NttUXVLTL._AC_UL320_.jpg\" alt=\"Image\">"
      ],
      "text/plain": [
       "<IPython.core.display.HTML object>"
      ]
     },
     "metadata": {},
     "output_type": "display_data"
    },
    {
     "data": {
      "text/html": [
       "<img src=\"https://m.media-amazon.com/images/I/51ZK+B6vjSL._AC_UL320_.jpg\" alt=\"Image\">"
      ],
      "text/plain": [
       "<IPython.core.display.HTML object>"
      ]
     },
     "metadata": {},
     "output_type": "display_data"
    },
    {
     "data": {
      "text/html": [
       "<img src=\"https://m.media-amazon.com/images/I/61Ec3IzoRHS._AC_UL320_.jpg\" alt=\"Image\">"
      ],
      "text/plain": [
       "<IPython.core.display.HTML object>"
      ]
     },
     "metadata": {},
     "output_type": "display_data"
    },
    {
     "data": {
      "text/html": [
       "<img src=\"https://m.media-amazon.com/images/I/61uWVjhezJL._AC_UL320_.jpg\" alt=\"Image\">"
      ],
      "text/plain": [
       "<IPython.core.display.HTML object>"
      ]
     },
     "metadata": {},
     "output_type": "display_data"
    }
   ],
   "source": [
    "def display_image(url):\n",
    "    html_code = f'<img src=\"{url}\" alt=\"Image\">'\n",
    "    display(HTML(html_code))\n",
    "\n",
    "\n",
    "for i in range(10):\n",
    "    display_image(amazon_1_filt['imgUrl'][i])"
   ]
  },
  {
   "cell_type": "markdown",
   "metadata": {},
   "source": [
    "### Coverting the data into documents"
   ]
  },
  {
   "cell_type": "code",
   "execution_count": 32,
   "metadata": {},
   "outputs": [
    {
     "name": "stderr",
     "output_type": "stream",
     "text": [
      "Writing files:   0%|          | 0/20 [00:00<?, ?it/s]"
     ]
    },
    {
     "name": "stderr",
     "output_type": "stream",
     "text": [
      "Writing files:   5%|▌         | 1/20 [00:12<04:01, 12.70s/it]"
     ]
    },
    {
     "name": "stdout",
     "output_type": "stream",
     "text": [
      "Data written to products\\output_1.txt\n"
     ]
    },
    {
     "name": "stderr",
     "output_type": "stream",
     "text": [
      "Writing files:  10%|█         | 2/20 [00:31<04:52, 16.24s/it]"
     ]
    },
    {
     "name": "stdout",
     "output_type": "stream",
     "text": [
      "Data written to products\\output_2.txt\n"
     ]
    },
    {
     "name": "stderr",
     "output_type": "stream",
     "text": [
      "Writing files:  15%|█▌        | 3/20 [00:45<04:22, 15.47s/it]"
     ]
    },
    {
     "name": "stdout",
     "output_type": "stream",
     "text": [
      "Data written to products\\output_3.txt\n"
     ]
    },
    {
     "name": "stderr",
     "output_type": "stream",
     "text": [
      "Writing files:  20%|██        | 4/20 [01:01<04:05, 15.37s/it]"
     ]
    },
    {
     "name": "stdout",
     "output_type": "stream",
     "text": [
      "Data written to products\\output_4.txt\n"
     ]
    },
    {
     "name": "stderr",
     "output_type": "stream",
     "text": [
      "Writing files:  25%|██▌       | 5/20 [01:16<03:48, 15.22s/it]"
     ]
    },
    {
     "name": "stdout",
     "output_type": "stream",
     "text": [
      "Data written to products\\output_5.txt\n"
     ]
    },
    {
     "name": "stderr",
     "output_type": "stream",
     "text": [
      "Writing files:  30%|███       | 6/20 [01:35<03:54, 16.77s/it]"
     ]
    },
    {
     "name": "stdout",
     "output_type": "stream",
     "text": [
      "Data written to products\\output_6.txt\n"
     ]
    },
    {
     "name": "stderr",
     "output_type": "stream",
     "text": [
      "Writing files:  35%|███▌      | 7/20 [01:58<04:03, 18.70s/it]"
     ]
    },
    {
     "name": "stdout",
     "output_type": "stream",
     "text": [
      "Data written to products\\output_7.txt\n"
     ]
    },
    {
     "name": "stderr",
     "output_type": "stream",
     "text": [
      "Writing files:  40%|████      | 8/20 [02:21<04:00, 20.02s/it]"
     ]
    },
    {
     "name": "stdout",
     "output_type": "stream",
     "text": [
      "Data written to products\\output_8.txt\n"
     ]
    },
    {
     "name": "stderr",
     "output_type": "stream",
     "text": [
      "Writing files:  45%|████▌     | 9/20 [02:39<03:32, 19.36s/it]"
     ]
    },
    {
     "name": "stdout",
     "output_type": "stream",
     "text": [
      "Data written to products\\output_9.txt\n"
     ]
    },
    {
     "name": "stderr",
     "output_type": "stream",
     "text": [
      "Writing files:  50%|█████     | 10/20 [02:54<03:02, 18.21s/it]"
     ]
    },
    {
     "name": "stdout",
     "output_type": "stream",
     "text": [
      "Data written to products\\output_10.txt\n"
     ]
    },
    {
     "name": "stderr",
     "output_type": "stream",
     "text": [
      "Writing files:  55%|█████▌    | 11/20 [03:11<02:38, 17.59s/it]"
     ]
    },
    {
     "name": "stdout",
     "output_type": "stream",
     "text": [
      "Data written to products\\output_11.txt\n"
     ]
    },
    {
     "name": "stderr",
     "output_type": "stream",
     "text": [
      "Writing files:  60%|██████    | 12/20 [03:26<02:15, 16.99s/it]"
     ]
    },
    {
     "name": "stdout",
     "output_type": "stream",
     "text": [
      "Data written to products\\output_12.txt\n"
     ]
    },
    {
     "name": "stderr",
     "output_type": "stream",
     "text": [
      "Writing files:  65%|██████▌   | 13/20 [03:43<01:57, 16.85s/it]"
     ]
    },
    {
     "name": "stdout",
     "output_type": "stream",
     "text": [
      "Data written to products\\output_13.txt\n"
     ]
    },
    {
     "name": "stderr",
     "output_type": "stream",
     "text": [
      "Writing files:  70%|███████   | 14/20 [04:02<01:45, 17.62s/it]"
     ]
    },
    {
     "name": "stdout",
     "output_type": "stream",
     "text": [
      "Data written to products\\output_14.txt\n"
     ]
    },
    {
     "name": "stderr",
     "output_type": "stream",
     "text": [
      "Writing files:  75%|███████▌  | 15/20 [04:22<01:30, 18.14s/it]"
     ]
    },
    {
     "name": "stdout",
     "output_type": "stream",
     "text": [
      "Data written to products\\output_15.txt\n"
     ]
    },
    {
     "name": "stderr",
     "output_type": "stream",
     "text": [
      "Writing files:  80%|████████  | 16/20 [04:41<01:14, 18.68s/it]"
     ]
    },
    {
     "name": "stdout",
     "output_type": "stream",
     "text": [
      "Data written to products\\output_16.txt\n"
     ]
    },
    {
     "name": "stderr",
     "output_type": "stream",
     "text": [
      "Writing files:  85%|████████▌ | 17/20 [05:01<00:56, 18.97s/it]"
     ]
    },
    {
     "name": "stdout",
     "output_type": "stream",
     "text": [
      "Data written to products\\output_17.txt\n"
     ]
    },
    {
     "name": "stderr",
     "output_type": "stream",
     "text": [
      "Writing files:  90%|█████████ | 18/20 [05:16<00:35, 17.73s/it]"
     ]
    },
    {
     "name": "stdout",
     "output_type": "stream",
     "text": [
      "Data written to products\\output_18.txt\n"
     ]
    },
    {
     "name": "stderr",
     "output_type": "stream",
     "text": [
      "Writing files:  95%|█████████▌| 19/20 [05:30<00:16, 16.54s/it]"
     ]
    },
    {
     "name": "stdout",
     "output_type": "stream",
     "text": [
      "Data written to products\\output_19.txt\n"
     ]
    },
    {
     "name": "stderr",
     "output_type": "stream",
     "text": [
      "Writing files: 100%|██████████| 20/20 [05:43<00:00, 17.16s/it]"
     ]
    },
    {
     "name": "stdout",
     "output_type": "stream",
     "text": [
      "Data written to products\\output_20.txt\n"
     ]
    },
    {
     "name": "stderr",
     "output_type": "stream",
     "text": [
      "\n"
     ]
    }
   ],
   "source": [
    "df = amazon_1_filt\n",
    "\n",
    "# Define the number of rows per file\n",
    "rows_per_file = 100000\n",
    "\n",
    "# Calculate the number of files needed\n",
    "num_files = len(df) // rows_per_file + 1\n",
    "\n",
    "# Create the output directory if it doesn't exist\n",
    "output_dir = 'products'\n",
    "os.makedirs(output_dir, exist_ok=True)\n",
    "\n",
    "# Write the data to multiple files\n",
    "for i in tqdm(range(num_files), desc=\"Writing files\"):\n",
    "    with open(os.path.join(output_dir, f'output_{i+1}.txt'), 'w') as f:\n",
    "        # Write the feature definitions\n",
    "        f.write(\"# Amazon Product Dataset\\n\\n\")\n",
    "        f.write(\"This document contains information about various products listed on Amazon. Each product has several attributes:\\n\\n\")\n",
    "        f.write(\"- `asin`: The unique identifier for each product.\\n\")\n",
    "        f.write(\"- `title`: The title of the product.\\n\")\n",
    "        f.write(\"- `stars`: The average rating of the product.\\n\")\n",
    "        f.write(\"- `reviews`: The number of reviews the product has received.\\n\")\n",
    "        f.write(\"- `price`: The current price of the product.\\n\")\n",
    "        f.write(\"- `listPrice`: The list price of the product.\\n\")\n",
    "        f.write(\"- `categoryName`: The category to which the product belongs.\\n\")\n",
    "        f.write(\"- `isBestSeller`: Indicates whether the product is a best seller.\\n\")\n",
    "        f.write(\"- `boughtInLastMonth`: The number of units of the product bought in the last month.\\n\\n\")\n",
    "\n",
    "        # Write the details for each row in the current slice of the dataframe\n",
    "        for index, row in df[i*rows_per_file:(i+1)*rows_per_file].iterrows():\n",
    "            f.write(f\"Product ID: {row['asin']}, Title: {row['title']}, Stars: {row['stars']}, Reviews: {row['reviews']}, Price: {row['price']}, List Price: {row['listPrice']}, Category Name: {row['categoryName']}, Is Best Seller: {row['isBestSeller']}, Bought In Last Month: {row['boughtInLastMonth']}\\n\")\n",
    "\n",
    "    print(f\"Data written to {os.path.join(output_dir, f'output_{i+1}.txt')}\")\n"
   ]
  },
  {
   "cell_type": "code",
   "execution_count": 33,
   "metadata": {},
   "outputs": [],
   "source": [
    "from langchain_community.document_loaders import DirectoryLoader"
   ]
  },
  {
   "cell_type": "code",
   "execution_count": 34,
   "metadata": {},
   "outputs": [
    {
     "name": "stderr",
     "output_type": "stream",
     "text": [
      "  0%|          | 0/20 [00:00<?, ?it/s]Error loading file products\\output_1.txt\n"
     ]
    },
    {
     "ename": "ValueError",
     "evalue": "unstructured package not found, please install it with `pip install unstructured`",
     "output_type": "error",
     "traceback": [
      "\u001b[1;31m---------------------------------------------------------------------------\u001b[0m",
      "\u001b[1;31mModuleNotFoundError\u001b[0m                       Traceback (most recent call last)",
      "File \u001b[1;32mc:\\Users\\timmy\\anaconda3\\envs\\genai-rec\\lib\\site-packages\\langchain_community\\document_loaders\\unstructured.py:48\u001b[0m, in \u001b[0;36mUnstructuredBaseLoader.__init__\u001b[1;34m(self, mode, post_processors, **unstructured_kwargs)\u001b[0m\n\u001b[0;32m     47\u001b[0m \u001b[38;5;28;01mtry\u001b[39;00m:\n\u001b[1;32m---> 48\u001b[0m     \u001b[38;5;28;01mimport\u001b[39;00m \u001b[38;5;21;01munstructured\u001b[39;00m  \u001b[38;5;66;03m# noqa:F401\u001b[39;00m\n\u001b[0;32m     49\u001b[0m \u001b[38;5;28;01mexcept\u001b[39;00m \u001b[38;5;167;01mImportError\u001b[39;00m:\n",
      "\u001b[1;31mModuleNotFoundError\u001b[0m: No module named 'unstructured'",
      "\nDuring handling of the above exception, another exception occurred:\n",
      "\u001b[1;31mValueError\u001b[0m                                Traceback (most recent call last)",
      "Cell \u001b[1;32mIn[34], line 2\u001b[0m\n\u001b[0;32m      1\u001b[0m loader \u001b[38;5;241m=\u001b[39m DirectoryLoader(\u001b[38;5;124m'\u001b[39m\u001b[38;5;124mproducts/\u001b[39m\u001b[38;5;124m'\u001b[39m, glob\u001b[38;5;241m=\u001b[39m\u001b[38;5;124m\"\u001b[39m\u001b[38;5;124m**/*.txt\u001b[39m\u001b[38;5;124m\"\u001b[39m, show_progress\u001b[38;5;241m=\u001b[39m\u001b[38;5;28;01mTrue\u001b[39;00m)\n\u001b[1;32m----> 2\u001b[0m docs \u001b[38;5;241m=\u001b[39m \u001b[43mloader\u001b[49m\u001b[38;5;241;43m.\u001b[39;49m\u001b[43mload\u001b[49m\u001b[43m(\u001b[49m\u001b[43m)\u001b[49m\n",
      "File \u001b[1;32mc:\\Users\\timmy\\anaconda3\\envs\\genai-rec\\lib\\site-packages\\langchain_community\\document_loaders\\directory.py:194\u001b[0m, in \u001b[0;36mDirectoryLoader.load\u001b[1;34m(self)\u001b[0m\n\u001b[0;32m    192\u001b[0m \u001b[38;5;28;01melse\u001b[39;00m:\n\u001b[0;32m    193\u001b[0m     \u001b[38;5;28;01mfor\u001b[39;00m i \u001b[38;5;129;01min\u001b[39;00m items:\n\u001b[1;32m--> 194\u001b[0m         \u001b[38;5;28;43mself\u001b[39;49m\u001b[38;5;241;43m.\u001b[39;49m\u001b[43mload_file\u001b[49m\u001b[43m(\u001b[49m\u001b[43mi\u001b[49m\u001b[43m,\u001b[49m\u001b[43m \u001b[49m\u001b[43mp\u001b[49m\u001b[43m,\u001b[49m\u001b[43m \u001b[49m\u001b[43mdocs\u001b[49m\u001b[43m,\u001b[49m\u001b[43m \u001b[49m\u001b[43mpbar\u001b[49m\u001b[43m)\u001b[49m\n\u001b[0;32m    196\u001b[0m \u001b[38;5;28;01mif\u001b[39;00m pbar:\n\u001b[0;32m    197\u001b[0m     pbar\u001b[38;5;241m.\u001b[39mclose()\n",
      "File \u001b[1;32mc:\\Users\\timmy\\anaconda3\\envs\\genai-rec\\lib\\site-packages\\langchain_community\\document_loaders\\directory.py:137\u001b[0m, in \u001b[0;36mDirectoryLoader.load_file\u001b[1;34m(self, item, path, docs, pbar)\u001b[0m\n\u001b[0;32m    135\u001b[0m     \u001b[38;5;28;01melse\u001b[39;00m:\n\u001b[0;32m    136\u001b[0m         logger\u001b[38;5;241m.\u001b[39merror(\u001b[38;5;124mf\u001b[39m\u001b[38;5;124m\"\u001b[39m\u001b[38;5;124mError loading file \u001b[39m\u001b[38;5;132;01m{\u001b[39;00m\u001b[38;5;28mstr\u001b[39m(item)\u001b[38;5;132;01m}\u001b[39;00m\u001b[38;5;124m\"\u001b[39m)\n\u001b[1;32m--> 137\u001b[0m         \u001b[38;5;28;01mraise\u001b[39;00m e\n\u001b[0;32m    138\u001b[0m \u001b[38;5;28;01mfinally\u001b[39;00m:\n\u001b[0;32m    139\u001b[0m     \u001b[38;5;28;01mif\u001b[39;00m pbar:\n",
      "File \u001b[1;32mc:\\Users\\timmy\\anaconda3\\envs\\genai-rec\\lib\\site-packages\\langchain_community\\document_loaders\\directory.py:130\u001b[0m, in \u001b[0;36mDirectoryLoader.load_file\u001b[1;34m(self, item, path, docs, pbar)\u001b[0m\n\u001b[0;32m    128\u001b[0m \u001b[38;5;28;01mtry\u001b[39;00m:\n\u001b[0;32m    129\u001b[0m     logger\u001b[38;5;241m.\u001b[39mdebug(\u001b[38;5;124mf\u001b[39m\u001b[38;5;124m\"\u001b[39m\u001b[38;5;124mProcessing file: \u001b[39m\u001b[38;5;132;01m{\u001b[39;00m\u001b[38;5;28mstr\u001b[39m(item)\u001b[38;5;132;01m}\u001b[39;00m\u001b[38;5;124m\"\u001b[39m)\n\u001b[1;32m--> 130\u001b[0m     sub_docs \u001b[38;5;241m=\u001b[39m \u001b[38;5;28mself\u001b[39m\u001b[38;5;241m.\u001b[39mloader_cls(\u001b[38;5;28mstr\u001b[39m(item), \u001b[38;5;241m*\u001b[39m\u001b[38;5;241m*\u001b[39m\u001b[38;5;28mself\u001b[39m\u001b[38;5;241m.\u001b[39mloader_kwargs)\u001b[38;5;241m.\u001b[39mload()\n\u001b[0;32m    131\u001b[0m     docs\u001b[38;5;241m.\u001b[39mextend(sub_docs)\n\u001b[0;32m    132\u001b[0m \u001b[38;5;28;01mexcept\u001b[39;00m \u001b[38;5;167;01mException\u001b[39;00m \u001b[38;5;28;01mas\u001b[39;00m e:\n",
      "File \u001b[1;32mc:\\Users\\timmy\\anaconda3\\envs\\genai-rec\\lib\\site-packages\\langchain_community\\document_loaders\\unstructured.py:168\u001b[0m, in \u001b[0;36mUnstructuredFileLoader.__init__\u001b[1;34m(self, file_path, mode, **unstructured_kwargs)\u001b[0m\n\u001b[0;32m    166\u001b[0m \u001b[38;5;250m\u001b[39m\u001b[38;5;124;03m\"\"\"Initialize with file path.\"\"\"\u001b[39;00m\n\u001b[0;32m    167\u001b[0m \u001b[38;5;28mself\u001b[39m\u001b[38;5;241m.\u001b[39mfile_path \u001b[38;5;241m=\u001b[39m file_path\n\u001b[1;32m--> 168\u001b[0m \u001b[38;5;28msuper\u001b[39m()\u001b[38;5;241m.\u001b[39m\u001b[38;5;21m__init__\u001b[39m(mode\u001b[38;5;241m=\u001b[39mmode, \u001b[38;5;241m*\u001b[39m\u001b[38;5;241m*\u001b[39munstructured_kwargs)\n",
      "File \u001b[1;32mc:\\Users\\timmy\\anaconda3\\envs\\genai-rec\\lib\\site-packages\\langchain_community\\document_loaders\\unstructured.py:50\u001b[0m, in \u001b[0;36mUnstructuredBaseLoader.__init__\u001b[1;34m(self, mode, post_processors, **unstructured_kwargs)\u001b[0m\n\u001b[0;32m     48\u001b[0m     \u001b[38;5;28;01mimport\u001b[39;00m \u001b[38;5;21;01munstructured\u001b[39;00m  \u001b[38;5;66;03m# noqa:F401\u001b[39;00m\n\u001b[0;32m     49\u001b[0m \u001b[38;5;28;01mexcept\u001b[39;00m \u001b[38;5;167;01mImportError\u001b[39;00m:\n\u001b[1;32m---> 50\u001b[0m     \u001b[38;5;28;01mraise\u001b[39;00m \u001b[38;5;167;01mValueError\u001b[39;00m(\n\u001b[0;32m     51\u001b[0m         \u001b[38;5;124m\"\u001b[39m\u001b[38;5;124munstructured package not found, please install it with \u001b[39m\u001b[38;5;124m\"\u001b[39m\n\u001b[0;32m     52\u001b[0m         \u001b[38;5;124m\"\u001b[39m\u001b[38;5;124m`pip install unstructured`\u001b[39m\u001b[38;5;124m\"\u001b[39m\n\u001b[0;32m     53\u001b[0m     )\n\u001b[0;32m     54\u001b[0m _valid_modes \u001b[38;5;241m=\u001b[39m {\u001b[38;5;124m\"\u001b[39m\u001b[38;5;124msingle\u001b[39m\u001b[38;5;124m\"\u001b[39m, \u001b[38;5;124m\"\u001b[39m\u001b[38;5;124melements\u001b[39m\u001b[38;5;124m\"\u001b[39m, \u001b[38;5;124m\"\u001b[39m\u001b[38;5;124mpaged\u001b[39m\u001b[38;5;124m\"\u001b[39m}\n\u001b[0;32m     55\u001b[0m \u001b[38;5;28;01mif\u001b[39;00m mode \u001b[38;5;129;01mnot\u001b[39;00m \u001b[38;5;129;01min\u001b[39;00m _valid_modes:\n",
      "\u001b[1;31mValueError\u001b[0m: unstructured package not found, please install it with `pip install unstructured`"
     ]
    }
   ],
   "source": [
    "loader = DirectoryLoader('products/', glob=\"**/*.txt\", show_progress=True)\n",
    "docs = loader.load()"
   ]
  },
  {
   "cell_type": "code",
   "execution_count": null,
   "metadata": {},
   "outputs": [],
   "source": []
  },
  {
   "cell_type": "code",
   "execution_count": null,
   "metadata": {},
   "outputs": [],
   "source": []
  },
  {
   "cell_type": "code",
   "execution_count": null,
   "metadata": {},
   "outputs": [],
   "source": []
  },
  {
   "cell_type": "code",
   "execution_count": null,
   "metadata": {},
   "outputs": [],
   "source": []
  },
  {
   "cell_type": "code",
   "execution_count": null,
   "metadata": {},
   "outputs": [],
   "source": []
  },
  {
   "cell_type": "code",
   "execution_count": 39,
   "metadata": {},
   "outputs": [],
   "source": [
    "chroma_client = chromadb.Client()"
   ]
  },
  {
   "cell_type": "code",
   "execution_count": 40,
   "metadata": {},
   "outputs": [],
   "source": [
    "amazon_canada = chroma_client.create_collection(name='amazon_canada')"
   ]
  },
  {
   "cell_type": "code",
   "execution_count": 44,
   "metadata": {},
   "outputs": [
    {
     "name": "stderr",
     "output_type": "stream",
     "text": [
      "C:\\Users\\timmy\\.cache\\chroma\\onnx_models\\all-MiniLM-L6-v2\\onnx.tar.gz: 100%|██████████| 79.3M/79.3M [00:30<00:00, 2.75MiB/s]\n"
     ]
    }
   ],
   "source": [
    "# now we can add the data to the collection\n",
    "amazon_canada.add(\n",
    "    documents = amazon_1_filt['title'].to_list(),\n",
    "    ids = amazon_1_filt['asin'].to_list()\n",
    "    )"
   ]
  },
  {
   "cell_type": "code",
   "execution_count": null,
   "metadata": {},
   "outputs": [],
   "source": []
  },
  {
   "cell_type": "code",
   "execution_count": null,
   "metadata": {},
   "outputs": [],
   "source": []
  },
  {
   "cell_type": "code",
   "execution_count": null,
   "metadata": {},
   "outputs": [],
   "source": []
  },
  {
   "cell_type": "code",
   "execution_count": null,
   "metadata": {},
   "outputs": [],
   "source": []
  },
  {
   "cell_type": "code",
   "execution_count": null,
   "metadata": {},
   "outputs": [],
   "source": []
  },
  {
   "cell_type": "code",
   "execution_count": null,
   "metadata": {},
   "outputs": [],
   "source": []
  },
  {
   "cell_type": "code",
   "execution_count": null,
   "metadata": {},
   "outputs": [],
   "source": []
  },
  {
   "cell_type": "code",
   "execution_count": null,
   "metadata": {},
   "outputs": [],
   "source": []
  }
 ],
 "metadata": {
  "kernelspec": {
   "display_name": "base",
   "language": "python",
   "name": "python3"
  },
  "language_info": {
   "codemirror_mode": {
    "name": "ipython",
    "version": 3
   },
   "file_extension": ".py",
   "mimetype": "text/x-python",
   "name": "python",
   "nbconvert_exporter": "python",
   "pygments_lexer": "ipython3",
   "version": "3.10.13"
  }
 },
 "nbformat": 4,
 "nbformat_minor": 2
}
